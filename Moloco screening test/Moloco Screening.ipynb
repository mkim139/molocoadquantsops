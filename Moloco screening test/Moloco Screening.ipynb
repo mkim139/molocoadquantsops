{
 "cells": [
  {
   "cell_type": "code",
   "execution_count": 284,
   "metadata": {},
   "outputs": [
    {
     "name": "stdout",
     "output_type": "stream",
     "text": [
      "Populating the interactive namespace from numpy and matplotlib\n"
     ]
    },
    {
     "name": "stderr",
     "output_type": "stream",
     "text": [
      "C:\\Users\\minso\\Anaconda3\\lib\\site-packages\\IPython\\core\\magics\\pylab.py:160: UserWarning: pylab import has clobbered these variables: ['table', 'datetime']\n",
      "`%matplotlib` prevents importing * from pylab and numpy\n",
      "  \"\\n`%matplotlib` prevents importing * from pylab and numpy\"\n"
     ]
    }
   ],
   "source": [
    "%pylab inline\n",
    "import pandas as pd\n",
    "from datetime import datetime"
   ]
  },
  {
   "cell_type": "code",
   "execution_count": 285,
   "metadata": {},
   "outputs": [
    {
     "data": {
      "text/plain": [
       "(3553, 4)"
      ]
     },
     "execution_count": 285,
     "metadata": {},
     "output_type": "execute_result"
    }
   ],
   "source": [
    "df = pd.read_excel('SWE sample data.xlsx')\n",
    "shape(df)"
   ]
  },
  {
   "cell_type": "markdown",
   "metadata": {},
   "source": [
    "### Q1"
   ]
  },
  {
   "cell_type": "markdown",
   "metadata": {},
   "source": [
    "first subset data for question 1, check the shape"
   ]
  },
  {
   "cell_type": "code",
   "execution_count": 267,
   "metadata": {},
   "outputs": [
    {
     "data": {
      "text/plain": [
       "(844, 4)"
      ]
     },
     "execution_count": 267,
     "metadata": {},
     "output_type": "execute_result"
    }
   ],
   "source": [
    "q1df = df[df['country_id']=='BDV']\n",
    "q1df.shape"
   ]
  },
  {
   "cell_type": "markdown",
   "metadata": {},
   "source": [
    "We can find unique 'user_id' with counts for each id using unique function"
   ]
  },
  {
   "cell_type": "code",
   "execution_count": 269,
   "metadata": {},
   "outputs": [
    {
     "name": "stdout",
     "output_type": "stream",
     "text": [
      "('3POLC', 2)\n",
      "('5NPAU', 544)\n",
      "('N0OTG', 90)\n"
     ]
    }
   ],
   "source": [
    "for i in unique(q1df['site_id']):\n",
    "    print((i,len(unique(q1df[q1df['site_id']==i]['user_id']))))"
   ]
  },
  {
   "cell_type": "markdown",
   "metadata": {},
   "source": [
    "Using the identified unique site_id, we find length of unique user_id for each unique site_id above shows tuple with site_id as first component and count for unique user in each site_id. Thus we find 5NPAU as the answer with count 544"
   ]
  },
  {
   "cell_type": "markdown",
   "metadata": {},
   "source": [
    "### Q2"
   ]
  },
  {
   "cell_type": "code",
   "execution_count": 273,
   "metadata": {},
   "outputs": [
    {
     "name": "stderr",
     "output_type": "stream",
     "text": [
      "C:\\Users\\minso\\Anaconda3\\lib\\site-packages\\ipykernel_launcher.py:2: FutureWarning: Interpreting tuple 'by' as a list of keys, rather than a single key. Use 'by=[...]' instead of 'by=(...)'. In the future, a tuple will always mean a single key.\n",
      "  \n"
     ]
    },
    {
     "data": {
      "text/html": [
       "<div>\n",
       "<style scoped>\n",
       "    .dataframe tbody tr th:only-of-type {\n",
       "        vertical-align: middle;\n",
       "    }\n",
       "\n",
       "    .dataframe tbody tr th {\n",
       "        vertical-align: top;\n",
       "    }\n",
       "\n",
       "    .dataframe thead tr th {\n",
       "        text-align: left;\n",
       "    }\n",
       "\n",
       "    .dataframe thead tr:last-of-type th {\n",
       "        text-align: right;\n",
       "    }\n",
       "</style>\n",
       "<table border=\"1\" class=\"dataframe\">\n",
       "  <thead>\n",
       "    <tr>\n",
       "      <th></th>\n",
       "      <th></th>\n",
       "      <th>ts</th>\n",
       "    </tr>\n",
       "    <tr>\n",
       "      <th></th>\n",
       "      <th></th>\n",
       "      <th>count</th>\n",
       "    </tr>\n",
       "    <tr>\n",
       "      <th>user_id</th>\n",
       "      <th>site_id</th>\n",
       "      <th></th>\n",
       "    </tr>\n",
       "  </thead>\n",
       "  <tbody>\n",
       "    <tr>\n",
       "      <th>LC06C3</th>\n",
       "      <th>N0OTG</th>\n",
       "      <td>25</td>\n",
       "    </tr>\n",
       "    <tr>\n",
       "      <th>LC3A59</th>\n",
       "      <th>N0OTG</th>\n",
       "      <td>26</td>\n",
       "    </tr>\n",
       "    <tr>\n",
       "      <th>LC3C7E</th>\n",
       "      <th>3POLC</th>\n",
       "      <td>15</td>\n",
       "    </tr>\n",
       "    <tr>\n",
       "      <th>LC3C9D</th>\n",
       "      <th>N0OTG</th>\n",
       "      <td>17</td>\n",
       "    </tr>\n",
       "  </tbody>\n",
       "</table>\n",
       "</div>"
      ],
      "text/plain": [
       "                   ts\n",
       "                count\n",
       "user_id site_id      \n",
       "LC06C3  N0OTG      25\n",
       "LC3A59  N0OTG      26\n",
       "LC3C7E  3POLC      15\n",
       "LC3C9D  N0OTG      17"
      ]
     },
     "execution_count": 273,
     "metadata": {},
     "output_type": "execute_result"
    }
   ],
   "source": [
    "subset = df[(df['ts'] >= '2019-2-3 00:00:00') & (df['ts'] <= '2019-2-4 23:59:59')]\n",
    "table = subset.groupby(('user_id','site_id')).agg(['count']).iloc[np.where(np.array(subset.groupby(('user_id','site_id')).agg(['count']))[:,0]>=10)]\n",
    "pd.DataFrame(table[('ts','count')])"
   ]
  },
  {
   "cell_type": "markdown",
   "metadata": {},
   "source": [
    "Using the first Timestamp column, I first subsetted the specified time range in the question.\n",
    "\n",
    "We can use the groupby function conditioning on two columns, user_id and site_id, and get the count. But since the number of unique user is too big that we can't visually see the count well. Thus we find where(index) in the table the count is over 10, then using the indices create the appropriate table again. Above shows the user_ids and the the site_ids they vitied more than 10 times with the count."
   ]
  },
  {
   "cell_type": "code",
   "execution_count": 274,
   "metadata": {},
   "outputs": [
    {
     "name": "stdout",
     "output_type": "stream",
     "text": [
      "('LC06C3', 'N0OTG', 25)\n",
      "('LC3A59', 'N0OTG', 26)\n",
      "('LC3C7E', '3POLC', 15)\n",
      "('LC3C9D', 'N0OTG', 17)\n"
     ]
    }
   ],
   "source": [
    "for i in range(0,4):\n",
    "    (ts,site,count)=pd.DataFrame(table[('ts','count')]).reset_index().iloc[i]\n",
    "    print((ts,site,count))"
   ]
  },
  {
   "cell_type": "markdown",
   "metadata": {},
   "source": [
    "Simplification for the answer as specified in the question. We could just use for loop to check"
   ]
  },
  {
   "cell_type": "code",
   "execution_count": 286,
   "metadata": {},
   "outputs": [
    {
     "name": "stdout",
     "output_type": "stream",
     "text": [
      "('LC06C3', 'N0OTG', 25)\n",
      "('LC3A59', 'N0OTG', 26)\n",
      "('LC3C7E', '3POLC', 15)\n",
      "('LC3C9D', 'N0OTG', 17)\n"
     ]
    }
   ],
   "source": [
    "subset = df[(df['ts'] >= '2019-2-3 00:00:00') & (df['ts'] <= '2019-2-4 23:59:59')]\n",
    "for i in unique(subset['user_id']):\n",
    "    s = subset[subset['user_id']==i]\n",
    "    x = np.array(unique(s['site_id'],return_counts=True))\n",
    "    for j in range(0,shape(x)[1]):\n",
    "        if x[1,j] > 10:\n",
    "            print((i,x[0,j],x[1,j]))"
   ]
  },
  {
   "cell_type": "markdown",
   "metadata": {},
   "source": [
    "For each unique user_id i first subsetted the data frame an unique user_id, then found unique site_id with counts. I printed the user_id, site_id, and count if the count is greater than 10"
   ]
  },
  {
   "cell_type": "markdown",
   "metadata": {},
   "source": [
    "### Q3"
   ]
  },
  {
   "cell_type": "code",
   "execution_count": 276,
   "metadata": {},
   "outputs": [
    {
     "data": {
      "text/plain": [
       "'N0OTG'"
      ]
     },
     "execution_count": 276,
     "metadata": {},
     "output_type": "execute_result"
    }
   ],
   "source": [
    "subset = df[df['user_id']=='LC3561']\n",
    "mtx = max(subset['ts'])\n",
    "(subset[subset['ts']==mtx]['site_id'].tolist()[0]) #just to check understanding of question"
   ]
  },
  {
   "cell_type": "code",
   "execution_count": 233,
   "metadata": {},
   "outputs": [],
   "source": [
    "lastvisit = []\n",
    "for i in unique(df['user_id']):\n",
    "    subset = df[df['user_id']==i]\n",
    "    mtx = max(subset['ts'])\n",
    "    lastvisit.append(subset[subset['ts']==mtx]['site_id'].tolist()[0])"
   ]
  },
  {
   "cell_type": "markdown",
   "metadata": {},
   "source": [
    "Here, for each unique user_id, I found the last visited sites in the original data frame. Then created the lists of the last visits.\n",
    "\n",
    "I first subsetted the dataframe for each unique user id, found maximum time stamp(most recent visit), then appended the site_id that had the corresponding maximum to list 'lastvisit'"
   ]
  },
  {
   "cell_type": "code",
   "execution_count": 234,
   "metadata": {},
   "outputs": [
    {
     "data": {
      "text/plain": [
       "(array(['3POLC', '5NPAU', 'EUZ/Q', 'GVOFK', 'JSUUP', 'N0OTG', 'QGO3G',\n",
       "        'RT9Z6'], dtype='<U5'),\n",
       " array([ 28, 992,   1,  42,   1, 561, 289,   2], dtype=int64))"
      ]
     },
     "execution_count": 234,
     "metadata": {},
     "output_type": "execute_result"
    }
   ],
   "source": [
    "unique(lastvisit,return_counts=True)"
   ]
  },
  {
   "cell_type": "markdown",
   "metadata": {},
   "source": [
    "Using The unique function, we can see the site_id and corresponding number of unique_user."
   ]
  },
  {
   "cell_type": "code",
   "execution_count": 235,
   "metadata": {},
   "outputs": [],
   "source": [
    "countlist = []\n",
    "counts = np.array(unique(lastvisit,return_counts=True))\n",
    "for i in range(0,shape(counts)[1]):\n",
    "    countlist.append((counts[0,i],counts[1,i]))"
   ]
  },
  {
   "cell_type": "code",
   "execution_count": 236,
   "metadata": {},
   "outputs": [
    {
     "data": {
      "text/plain": [
       "[('5NPAU', '992'),\n",
       " ('N0OTG', '561'),\n",
       " ('GVOFK', '42'),\n",
       " ('QGO3G', '289'),\n",
       " ('3POLC', '28'),\n",
       " ('RT9Z6', '2'),\n",
       " ('EUZ/Q', '1'),\n",
       " ('JSUUP', '1')]"
      ]
     },
     "execution_count": 236,
     "metadata": {},
     "output_type": "execute_result"
    }
   ],
   "source": [
    "sorted(countlist,key=lambda tup:tup[1],reverse=True)"
   ]
  },
  {
   "cell_type": "markdown",
   "metadata": {},
   "source": [
    "Then changed the format into tuple and sorted the tuple to get the top 3 pairs, ('5NPAU', '992'), ('N0OTG', '561'), ('GVOFK', '42')"
   ]
  },
  {
   "cell_type": "markdown",
   "metadata": {},
   "source": [
    "### Q4"
   ]
  },
  {
   "cell_type": "markdown",
   "metadata": {},
   "source": [
    "We first want to find user_id with count greater than 2, to identify the user who has initial visit and the last visit. User count less than 2 indicate the user visited the site then just left in our given dataset, thus we have first visit but wouldn't have the last visit\n",
    "\n",
    "But first we can just naively treat the user with count 1 to be included and try, using the last code, but this time we find minimum time stamp (first visit)"
   ]
  },
  {
   "cell_type": "code",
   "execution_count": 278,
   "metadata": {},
   "outputs": [],
   "source": [
    "firstvisit = []\n",
    "for i in unique(df['user_id']):\n",
    "    subset = df[df['user_id']==i]\n",
    "    mintx = min(subset['ts'])\n",
    "    firstvisit.append(subset[subset['ts']==mintx]['site_id'].tolist()[0])"
   ]
  },
  {
   "cell_type": "code",
   "execution_count": 279,
   "metadata": {},
   "outputs": [
    {
     "data": {
      "text/plain": [
       "1670"
      ]
     },
     "execution_count": 279,
     "metadata": {},
     "output_type": "execute_result"
    }
   ],
   "source": [
    "c = []\n",
    "for i in range(0,len(firstvisit)):\n",
    "    c.append((firstvisit[i]==lastvisit[i]))\n",
    "sum(c)"
   ]
  },
  {
   "cell_type": "markdown",
   "metadata": {},
   "source": [
    "Then the number is 1670. Now we try with only users who visited more than once:"
   ]
  },
  {
   "cell_type": "code",
   "execution_count": 256,
   "metadata": {},
   "outputs": [],
   "source": [
    "u = np.array(unique(df['user_id'],return_counts=True))\n",
    "freuser = list(u[0,(u[1]>1)])"
   ]
  },
  {
   "cell_type": "markdown",
   "metadata": {},
   "source": [
    "Here we identify the unique users who appears at least twice"
   ]
  },
  {
   "cell_type": "code",
   "execution_count": 260,
   "metadata": {},
   "outputs": [],
   "source": [
    "firstvisit2 = []\n",
    "lastvisit2 = []\n",
    "for i in freuser:\n",
    "    subset = df[df['user_id']==i]\n",
    "    mintx = min(subset['ts'])\n",
    "    firstvisit2.append(subset[subset['ts']==mintx]['site_id'].tolist()[0])\n",
    "    mtx = max(subset['ts'])\n",
    "    lastvisit2.append(subset[subset['ts']==mtx]['site_id'].tolist()[0])"
   ]
  },
  {
   "cell_type": "markdown",
   "metadata": {},
   "source": [
    "use same code to get last and first visit"
   ]
  },
  {
   "cell_type": "code",
   "execution_count": 263,
   "metadata": {},
   "outputs": [
    {
     "data": {
      "text/plain": [
       "409"
      ]
     },
     "execution_count": 263,
     "metadata": {},
     "output_type": "execute_result"
    }
   ],
   "source": [
    "c2 = []\n",
    "for i in range(0,len(firstvisit2)):\n",
    "    c2.append((firstvisit2[i]==lastvisit2[i]))\n",
    "sum(c2)"
   ]
  },
  {
   "cell_type": "markdown",
   "metadata": {},
   "source": [
    "Sum up the users who has initial and last visit has equal site_id. When we only count the users who visited site more than once we get 409 as answer"
   ]
  }
 ],
 "metadata": {
  "kernelspec": {
   "display_name": "Python 3",
   "language": "python",
   "name": "python3"
  },
  "language_info": {
   "codemirror_mode": {
    "name": "ipython",
    "version": 3
   },
   "file_extension": ".py",
   "mimetype": "text/x-python",
   "name": "python",
   "nbconvert_exporter": "python",
   "pygments_lexer": "ipython3",
   "version": "3.6.5"
  }
 },
 "nbformat": 4,
 "nbformat_minor": 2
}
